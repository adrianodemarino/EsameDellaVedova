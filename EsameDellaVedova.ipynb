{
 "cells": [
  {
   "cell_type": "markdown",
   "metadata": {},
   "source": [
    "# Advanced Techniques for Combinatorial Algorithms\n",
    "\n",
    "## Student: Adriano De Marino\n",
    "\n",
    "### Department of Informatics, Systems and Communication, University of Milano-Bicocca, Milano, Italy\n",
    "\n",
    "#### <a.demarino@campus.unimib.it>"
   ]
  },
  {
   "cell_type": "markdown",
   "metadata": {},
   "source": [
    "## 1 Derandomization of Max Sat\n",
    "\n",
    "Given the approximation LP-relax algorithm that finds a feasible solution of Max-Sat for a set of m clauses with an approximation factor equal to 1 − $\\frac{1}{e}$, setting variable x<sub>i</sub> to T with probability y<sub>i</sub><sup>*</sup>.\n",
    "Let the random variable W denote the weight of the satisfied clauses, and let W<sub>c</sub> be the contribution to W from any particular clause c associated with weight w<sub>c</sub>. Without loss of generality, assume that all literals in any clause c are not negated, so that Pr[c is satisfied] = 1 - $\\prod_{i1}^{n}$ (1-y<sub>i</sub><sup>*</sup>). Thus we have W = $\\sum_{c}$ , E[W<sub>c</sub>] = w<sub>c</sub>Pr[c is satisfied] and E[W] = $\\sum_{c} E[W$<sub>c</sub>]. Since\n",
    "\n",
    "E[W<sub>c</sub>] = E[W<sub>c</sub>|x<sub>1</sub> = T]Pr[x<sub>1</sub> = T] + E[W<sub>c</sub>|x<sub>1</sub> = F]Pr[x<sub>1</sub> = F] = E[W<sub>c</sub>|x<sub>1</sub> = T]y<sub>1</sub><sup>*</sup> + E[W<sub>c</sub>|x<sub>1</sub> = F](1 - y<sub>1</sub><sup>*</sup>)\n",
    "\n",
    "the value of literal x<sub>1</sub> can be decided picking the greatest among E[W<sub>c</sub>|x<sub>1</sub> = T] and E[W<sub>c</sub>|x<sub>1</sub> = F]. These values can be easily computed the following way:\n",
    "\n",
    "![alt text]( formula.png \"FormulaLateX\")\n",
    "\n",
    "Iterating this process for literals x<sub>2</sub>,..., x<sub>n</sub> leads to a (1 − $\\frac{1}{e}$ )-approximation, as max { E[W<sub>c</sub>|x<sub>1</sub> = T],E[W<sub>c</sub>|x<sub>1</sub> = F] } $\\ge$ E[W<sub>c</sub>]\n",
    "\n",
    "and \n",
    "\n",
    "( 1 - $\\frac{1}{e}$ ) OPT $\\le$ E[W] = $\\sum_{c}$E[W<sub>c</sub>] $\\le$ $\\sum_{c}$max{E[W<sub>c</sub>|x<sub>1</sub> = T],E[W<sub>c</sub>|x<sub>1</sub> = F]}\n"
   ]
  },
  {
   "cell_type": "markdown",
   "metadata": {},
   "source": [
    "## 2 Deletion of clauses\n",
    "\n",
    "Consider the following problem: given a set of m clauses, each of size 2 (i.e. composed of two literals), delete the minimum number of clauses such that the remaining are all satisfiable at the same time. Notice that this problem is closely related to **Max Sat**: indeed, to find the minimum number of clauses that need to be deleted is equivalent to finding the maximum number of clauses that can be satisfied at once. Thus a $\\frac{3}{4}$ -approximation algorithm descends directly from the LP-relax approximation algorithm for Max Sat that was derandomized here above. One can proceed as follows:\n",
    "1. Find a Max Sat assignment for the set of clauses given in input with w<sub>c</sub> = 1 ∀ c;\n",
    "2. Use this assignment to evaluate the clauses;\n",
    "3. Return the clauses that are satisfied, delete the others.\n",
    "\n",
    "The approximation ratio of this algorithm is $\\frac{3}{4}$ , as LP-relax has an approximation\n",
    "factor of 1 − (1 − $\\frac{1}{k}$)<sup>k</sup> with k the upper bound for the size of clauses, and k = 2 for the\n",
    "clause deletion problem."
   ]
  },
  {
   "cell_type": "markdown",
   "metadata": {},
   "source": [
    "## 3 Pattern Matching - Maximal palindromes\n",
    "\n",
    "Given a text T = t<sub>0</sub>, t<sub>1</sub> . . . t<sub>n-1</sub> of length n, find the palindrome of maximal length occurring in T . Note that the positions in T are indexed from 0 to n − 1.\n",
    "\n",
    "This problem can be addressed exploiting the generalized suffix tree of T and its reverse T<sup>R</sup> . As a matter of fact, this data structure allows us to find the palindrome of maximal length occurring in T . Let s(v) and L(s(v)) = |s(v)| be the string representing the path from the root to the internal node v and the length of s(v), respectively. \n",
    "\n",
    "Given a node v, s(v) is a palindrome path-label if and only if the subtree rooted at v contains two leaves (T, i), (T<sup>R</sup> , j) such that j = n − (i + L(s(v))). Note that a palindrome corresponding to a no-dummy node is maximal if no other palindromes with the same center and greater length exist. The following steps must be computed to find the maximal palindrome of T :\n",
    "\n",
    "1. build the generalized suffix tree of T and its reverse T<sup>R</sup>\n",
    "2. for each internal node v, check the leaves of the subtree rooted at v. If two leaves (T, i), (T<sup>R</sup> ,j) such that j = n − (i + L(s(v))) exist, return i and L(s(v)).\n",
    "\n",
    "For each node of the generalized suffix tree, two additional data structures must be introduced. To be more precise, for each node v two bit vectors B<sup>T</sup><sub>v</sub> and B<sup>v</sup><sub>T</sub><sup>R</sup> of length n are used. B<sup>T</sup><sub>v</sub>[i] = 1 if and only if (T, i) is a leaf of the subtree rooted at v and B<sup>v</sup><sub>T</sub><sup>R</sup> [n − j − L(s(v))] = 1 if and only if (T<sup>R</sup> , j) is a leaf of the  same subtree rooted in v. To construct the vectors B<sup>T</sup> and B<sup>T</sup><sup>R</sup> the following steps must be computed:\n",
    "\n",
    "1. for all the leaves of the generalized suffix tree, assign the value to B<sup>T</sup> and B<sup>T</sup><sup>R</sup>\n",
    "\n",
    "2. for each internal node v, B<sub>v</sub><sup>T</sup> = B<sub>x1</sub><sup>T</sup> ∨ B<sub>x2</sub><sup>T</sup> ∨ · · · ∨ B<sub>xn</sub><sup>T</sup> , where x1 , . . . , xn are the children of v. In a similar way, B<sub>v</sub> T<sup>R</sup> can be computed as B<sub>v</sub>T<sup>R</sup> = RS(L(s(x1)) − L(s(v)))B<sub>x1</sub>T<sup>R</sup> ∨ RS(L(s(x2)) − L(s(v)))B<sub>x2</sub>T<sup>R</sup> ∨ · · · ∨ RS(L(s(xn)) − L(s(v)))B<sub>xn</sub>T<sup>R</sup> , where RS(·)B is the vector obtained by shifting right the bits of B.\n",
    "\n",
    "s(v) is palindrome if B<sub>v</sub> = B<sub>v</sub><sup>T</sup> has at least a position i such that B<sub>v</sub>[i] = 1.\n",
    "\n",
    "**Running time** \n",
    "Note that the complexity in time to build the generalized suffix tree of T and T<sup>R</sup> is O(n). Since there are O(n) nodes, the total complexity in time is O(n<sup>2</sup>)."
   ]
  },
  {
   "cell_type": "markdown",
   "metadata": {},
   "source": [
    "## 4 Pattern Matching - Longest repeat\n",
    "\n",
    "Given a text T = t<sub>0</sub>, t<sub>1</sub> . . . t<sub>n-1</sub> of length n find the maximal repeat occurring in T\n",
    "\n",
    "First build the suffix tree of T : since each internal node corresponds to a substring that occurs more than once in T , it suffices to find the deepest internal node x (in time O(n) with a simple visit of the tree) and output all the leaves in the subtree rooted at x together with d(x).\n"
   ]
  },
  {
   "cell_type": "markdown",
   "metadata": {},
   "source": [
    "## 5 Minimum spanning tree\n",
    "\n",
    "Given an undirected edge-weighted connected graph G = (V, E), find a minimum-weight subset T ⊆ E such that T is a spanning tree of V.\n",
    "\n",
    "**Lemma 1**. Let G = (V, E) be an undirected graph, let (V<sub>1</sub> , V<sub>2</sub> ) be a bipartition of V , let T be a minimum spanning tree of G, and let e be the lightest edge connecting V<sub>1</sub> and V<sub>2</sub> . Then e ∈ T .\n",
    "\n",
    "**Algorithm T**\n",
    "At step 0 the algorithm finds in parallel for each node v ∈ V the lightest incident edge and it marks it: finding the lightest edge for a single node, in turn,can be done in parallel for each node. Lemma 1 ensures that all of such edges will be part of the minimum spanning tree T , as it suffices to consider all the partitions such that\n",
    "V<sub>1</sub> = {v}, V<sub>2</sub>= V \\ {v}. All such edges form, in general, a forest whose elements are subtrees of T : to connect all of these subtrees to obtain a T , the algorithm first finds in parallel the connected components of the subgraph G<sup>\"</sup> induced by the marked edges , so that all the nodes in a single subtree share the same representative. It then performs the following operations at each iteration:\n",
    "1. For each node v, in parallel, it finds the lightest incident edge (v, u) such that the representative of u is different from the representative of v (i.e. it links two different subtrees); among all such edges, it finds (in parallel) the lightest for each subtree and marks it: all of the marked edges will be part of T because of Lemma 1.\n",
    "2. It finds in parallel the connected components of the subgraph G 0 induced by the marked edges.\n",
    "\n",
    "Note that step 0 follows exactly the same procedure, and it was treated separately just for the sake of clarity. Step 1 is correct again by **Lemma 1**, considering the partitions that separates a set of nodes with the same representative from all the others. The algorithm ends when G<sup>\"</sup> consists of a single connected component, namely a T , which is given in output.\n",
    "\n",
    "**Running time** \n",
    "At each iteration, to find in parallel the lightest incident edge for a single node (and then for a single subtree) can be done in time O(log log(n)); to find the connected components of G<sup>\"</sup> can be done in parallel in time O(log(n)). The worst case occurs when at each iteration, only couples of subtrees gets connected: this results in O(log(n)) iteration, and thus the overall running time of the algorithm is O(log<sup>2</sup> (n))."
   ]
  },
  {
   "cell_type": "code",
   "execution_count": null,
   "metadata": {},
   "outputs": [],
   "source": []
  }
 ],
 "metadata": {
  "kernelspec": {
   "display_name": "Python 3",
   "language": "python",
   "name": "python3"
  },
  "language_info": {
   "codemirror_mode": {
    "name": "ipython",
    "version": 3
   },
   "file_extension": ".py",
   "mimetype": "text/x-python",
   "name": "python",
   "nbconvert_exporter": "python",
   "pygments_lexer": "ipython3",
   "version": "3.7.4"
  }
 },
 "nbformat": 4,
 "nbformat_minor": 2
}
